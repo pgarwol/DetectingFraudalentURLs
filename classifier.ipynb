{
 "cells": [
  {
   "attachments": {},
   "cell_type": "markdown",
   "metadata": {},
   "source": [
    "### Źródła:\n",
    "<a href=\"https://www.kaggle.com/datasets/siddharthkumar25/malicious-and-benign-urls\" target=\"_blank\"> Malicious And Benign URLs  </a> <br/>\n",
    "<a href=\"https://www.kaggle.com/datasets/sid321axn/malicious-urls-dataset\" target=\"_blank\"> Malicious URLs dataset  </a>\n"
   ]
  },
  {
   "cell_type": "code",
   "execution_count": null,
   "metadata": {},
   "outputs": [],
   "source": [
    "import matplotlib.pyplot as plt\n",
    "import numpy as np\n",
    "import pandas as pd"
   ]
  }
 ],
 "metadata": {
  "language_info": {
   "name": "python"
  },
  "orig_nbformat": 4
 },
 "nbformat": 4,
 "nbformat_minor": 2
}
